{
 "cells": [
  {
   "cell_type": "markdown",
   "metadata": {},
   "source": [
    "import notebook_utils as nutils\n",
    "nutils.gdrive_down('1IhktjApSsNS8aFhoVXbH7PEY07Ri_qJ8', 'image1.zip')"
   ]
  },
  {
   "cell_type": "code",
   "execution_count": 1,
   "metadata": {},
   "outputs": [],
   "source": [
    "%load_ext autoreload\n",
    "%autoreload 2"
   ]
  },
  {
   "cell_type": "code",
   "execution_count": null,
   "metadata": {},
   "outputs": [],
   "source": [
    "import notebook_utils as nutils\n",
    "from train import *\n",
    "\n",
    "classes = ['OCR']\n",
    "\n",
    "xml_paths = nutils.list_files(\"OCR\", \"**/*.xml\")\n",
    "\n",
    "dataset = output_set(xml_paths)\n",
    "\n",
    "classes = ['552F', '550SF','550PF', '552SF', '551F', '551GPF', '522F']\n",
    "\n",
    "dicts=get_dicts(dataset['train'], classes)\n",
    "\n",
    "train(dataset, 'ocr_spec', classes)"
   ]
  },
  {
   "cell_type": "code",
   "execution_count": null,
   "metadata": {},
   "outputs": [],
   "source": []
  }
 ],
 "metadata": {
  "kernelspec": {
   "display_name": "Python 3",
   "language": "python",
   "name": "python3"
  },
  "language_info": {
   "codemirror_mode": {
    "name": "ipython",
    "version": 3
   },
   "file_extension": ".py",
   "mimetype": "text/x-python",
   "name": "python",
   "nbconvert_exporter": "python",
   "pygments_lexer": "ipython3",
   "version": "3.7.7"
  }
 },
 "nbformat": 4,
 "nbformat_minor": 4
}
