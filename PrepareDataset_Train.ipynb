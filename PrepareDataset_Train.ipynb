{
 "cells": [
  {
   "cell_type": "markdown",
   "metadata": {},
   "source": [
    "import notebook_utils as nutils\n",
    "nutils.gdrive_down('1IhktjApSsNS8aFhoVXbH7PEY07Ri_qJ8', 'image1.zip')"
   ]
  },
  {
   "cell_type": "code",
   "execution_count": null,
   "metadata": {},
   "outputs": [],
   "source": [
    "%load_ext autoreload\n",
    "%autoreload 2"
   ]
  },
  {
   "cell_type": "code",
   "execution_count": null,
   "metadata": {},
   "outputs": [],
   "source": [
    "import notebook_utils as nutils\n",
    "from train import *"
   ]
  },
  {
   "cell_type": "markdown",
   "metadata": {},
   "source": [
    "nutils.gdrive_down(\"17v2vK-_XrakOd-L9uu-12LEFmY_8wlAz\", \"baocam_data_2109.zip\")\n",
    "\n",
    "nutils.unzip(\"baocam_data_2109.zip\", \"baocam_data_2109\")"
   ]
  },
  {
   "cell_type": "code",
   "execution_count": null,
   "metadata": {},
   "outputs": [],
   "source": [
    "classes = ['BAO CAM']\n",
    "\n",
    "xml_paths = nutils.list_files(\"BAOCAM\", \"**/*.xml\")\n",
    "xml_paths = nutils.list_files(\"baocam_data_2109\", \"**/*.xml\")\n",
    "\n",
    "dataset = output_set(xml_paths)"
   ]
  },
  {
   "cell_type": "code",
   "execution_count": null,
   "metadata": {},
   "outputs": [],
   "source": [
    "train(dataset, 'baocam', classes, num_iter= 2000) #, model=\"faster_rcnn_R_50_FPN_1x.yaml\""
   ]
  },
  {
   "cell_type": "code",
   "execution_count": null,
   "metadata": {},
   "outputs": [],
   "source": []
  }
 ],
 "metadata": {
  "kernelspec": {
   "display_name": "Python 3",
   "language": "python",
   "name": "python3"
  },
  "language_info": {
   "codemirror_mode": {
    "name": "ipython",
    "version": 3
   },
   "file_extension": ".py",
   "mimetype": "text/x-python",
   "name": "python",
   "nbconvert_exporter": "python",
   "pygments_lexer": "ipython3",
   "version": "3.7.7"
  }
 },
 "nbformat": 4,
 "nbformat_minor": 4
}
